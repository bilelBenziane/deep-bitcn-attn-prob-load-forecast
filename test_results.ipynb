{
 "cells": [
  {
   "cell_type": "code",
   "execution_count": 3,
   "id": "cdfd9fb4-8b20-40f6-99f7-4c004fac3188",
   "metadata": {},
   "outputs": [
    {
     "name": "stdout",
     "output_type": "stream",
     "text": [
      "NRMSE: 0.3462413521235001\n",
      "sMAPE: 0.1189337211320377\n",
      "MAPE: 0.122081992889143\n",
      "RMSE: 772.6031\n",
      "ND: 0.0721459794081474\n",
      "QuantileLoss (Q50): 0.0721459794081474\n",
      "Mean QuantileLoss (mQ): 0.058637193553378805\n"
     ]
    }
   ],
   "source": [
    "import pandas as pd\n",
    "\n",
    "dataset_name = 'uci_electricity'\n",
    "experiment_dir = 'experiments/'+dataset_name\n",
    "algorithm = 'bitcn_att_skip'\n",
    "seed = 0 \n",
    "learning_rate = 0.001\n",
    "batch_size = 64\n",
    "N = 6\n",
    "NATT = 4\n",
    "d_hidden = 25\n",
    "heads = 5\n",
    "filename = f\"{experiment_dir}/{algorithm}/{algorithm}_seed={seed}_lr={learning_rate}_bs={batch_size}_N={N}_NATT={NATT}_d_hidden={d_hidden}_heads={heads}_test.csv\"\n",
    "        \n",
    "df = pd.read_csv(filename)\n",
    "\n",
    "print(\"NRMSE:\", df['NRMSE'][4])\n",
    "print(\"sMAPE:\", df['sMAPE'][4])\n",
    "print(\"MAPE:\", df['MAPE'][4])\n",
    "print(\"RMSE:\", df['RMSE'][4])\n",
    "print(\"ND:\", df['ND'][4])\n",
    "print(\"QuantileLoss (Q50):\", df['QuantileLoss'][4])\n",
    "print(\"Mean QuantileLoss (mQ):\", df['QuantileLoss'].mean())\n"
   ]
  },
  {
   "cell_type": "code",
   "execution_count": null,
   "id": "00d3b579-b075-45dc-98af-ab2687b9878e",
   "metadata": {},
   "outputs": [],
   "source": []
  }
 ],
 "metadata": {
  "kernelspec": {
   "display_name": "Python (gpu_pytorsh )",
   "language": "python",
   "name": "gpu_pytorsh"
  },
  "language_info": {
   "codemirror_mode": {
    "name": "ipython",
    "version": 3
   },
   "file_extension": ".py",
   "mimetype": "text/x-python",
   "name": "python",
   "nbconvert_exporter": "python",
   "pygments_lexer": "ipython3",
   "version": "3.10.16"
  }
 },
 "nbformat": 4,
 "nbformat_minor": 5
}
